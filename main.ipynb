{
 "cells": [
  {
   "cell_type": "code",
   "execution_count": 1,
   "metadata": {},
   "outputs": [
    {
     "name": "stdout",
     "output_type": "stream",
     "text": [
      "60000 training examples\n",
      "10000 testing examples\n",
      "hidden layers [16, 16, 16, 16]\n",
      "learning rate 0.08\n"
     ]
    }
   ],
   "source": [
    "# build network\n",
    "import numpy as np\n",
    "import nn\n",
    "from nn.mnist_loader import MnistDataloader\n",
    "\n",
    "loader = MnistDataloader(\n",
    "  \"data/train-images-idx3-ubyte/train-images-idx3-ubyte\",\n",
    "  \"data/train-labels-idx1-ubyte/train-labels-idx1-ubyte\",\n",
    "  \"data/t10k-images-idx3-ubyte/t10k-images-idx3-ubyte\",\n",
    "  \"data/t10k-labels-idx1-ubyte/t10k-labels-idx1-ubyte\"\n",
    ")\n",
    "(x_train, y_train), (x_test, y_test) = loader.load_data()\n",
    "\n",
    "print(len(x_train), \"training examples\")\n",
    "print(len(x_test), \"testing examples\")\n",
    "\n",
    "hidden_layers = [16]*4\n",
    "learning_rate = 0.08\n",
    "\n",
    "print(\"hidden layers\", hidden_layers)\n",
    "print(\"learning rate\", learning_rate)\n",
    "\n",
    "network = nn.Network(\n",
    "  x_train=x_train,\n",
    "  x_test=x_test,\n",
    "  y_train=y_train,\n",
    "  y_test=y_test,\n",
    "  hidden_layers=hidden_layers,\n",
    "  output_layer_size=10,\n",
    "  learning_rate=learning_rate\n",
    ")"
   ]
  },
  {
   "cell_type": "code",
   "execution_count": 2,
   "metadata": {},
   "outputs": [
    {
     "name": "stdout",
     "output_type": "stream",
     "text": [
      "training with batch size 10000\n"
     ]
    }
   ],
   "source": [
    "# train network\n",
    "batch_size = 10000\n",
    "print(\"training with batch size\", batch_size)\n",
    "network.train(batch_size)"
   ]
  },
  {
   "cell_type": "code",
   "execution_count": 3,
   "metadata": {},
   "outputs": [
    {
     "name": "stdout",
     "output_type": "stream",
     "text": [
      "8581 out of 10000 correct, score: 85.81%\n",
      "choice counts [1045, 1053, 1045, 998, 857, 905, 921, 909, 1250, 1017]\n",
      "correct counts [980, 1135, 1032, 1010, 982, 892, 958, 1028, 974, 1009]\n"
     ]
    }
   ],
   "source": [
    "# test predictions\n",
    "total = len(x_test)\n",
    "correct = 0\n",
    "choice_counts = [0]*10\n",
    "correct_counts = [0]*10\n",
    "for i, test in enumerate(x_test):\n",
    "  inp = np.concatenate(test) / 255\n",
    "  label = y_test[i]\n",
    "  choice = network.predict_one(inp)\n",
    "  choice_counts[choice] = choice_counts[choice]+1\n",
    "  correct_counts[label] = correct_counts[label]+1\n",
    "  if choice == label:\n",
    "    correct += 1\n",
    "\n",
    "print(f\"{correct} out of {total} correct, score: {(correct/total)*100}%\")\n",
    "print(\"choice counts\", choice_counts)\n",
    "print(\"correct counts\", correct_counts)"
   ]
  }
 ],
 "metadata": {
  "kernelspec": {
   "display_name": "nn",
   "language": "python",
   "name": "python3"
  },
  "language_info": {
   "codemirror_mode": {
    "name": "ipython",
    "version": 3
   },
   "file_extension": ".py",
   "mimetype": "text/x-python",
   "name": "python",
   "nbconvert_exporter": "python",
   "pygments_lexer": "ipython3",
   "version": "3.12.5"
  }
 },
 "nbformat": 4,
 "nbformat_minor": 2
}
